{
 "cells": [
  {
   "cell_type": "code",
   "execution_count": 1,
   "metadata": {},
   "outputs": [],
   "source": [
    "# Loading libraries\n",
    "import pandas as pd\n",
    "import numpy as np\n",
    "import matplotlib.pyplot as plt\n",
    "import seaborn as sb\n"
   ]
  },
  {
   "cell_type": "code",
   "execution_count": 2,
   "metadata": {},
   "outputs": [],
   "source": [
    "# Importing CSV data\n",
    "data = pd.read_csv('/Users/sabrina/Desktop/Nanodegrees/Data-Science-Nanodegree/Intro-Data-Science/Project/ICPSR_31401/DS0001/31401-0001-Data.csv')\n"
   ]
  },
  {
   "cell_type": "code",
   "execution_count": 3,
   "metadata": {},
   "outputs": [],
   "source": [
    "# Replacing all emptry cells with NaN\n",
    "data = data.replace(' ', np.nan)\n"
   ]
  },
  {
   "cell_type": "code",
   "execution_count": null,
   "metadata": {},
   "outputs": [],
   "source": []
  },
  {
   "cell_type": "code",
   "execution_count": null,
   "metadata": {},
   "outputs": [],
   "source": []
  },
  {
   "cell_type": "code",
   "execution_count": 4,
   "metadata": {},
   "outputs": [
    {
     "data": {
      "image/png": "[encoded data removed]",
      "text/plain": [
       "<Figure size 432x288 with 1 Axes>"
      ]
     },
     "metadata": {
      "needs_background": "light"
     },
     "output_type": "display_data"
    }
   ],
   "source": [
    "# Counting number of kids per family\n",
    "sb.distplot(data['numkids'],hist = True, kde=False);\n"
   ]
  },
  {
   "cell_type": "code",
   "execution_count": 5,
   "metadata": {},
   "outputs": [],
   "source": [
    "# Filtering data to find out how many families have at least one kid with behavior or health problems\n",
    "data_with_bp = data[['unique_id','numkids','q601a01','q601b01','q601c01','q601d01','q601e01', 'q601f01','q601g01','q601h01','q601i01','q601j01']]"
   ]
  },
  {
   "cell_type": "code",
   "execution_count": 6,
   "metadata": {},
   "outputs": [
    {
     "data": {
      "text/html": [
       "<div>\n",
       "<style scoped>\n",
       "    .dataframe tbody tr th:only-of-type {\n",
       "        vertical-align: middle;\n",
       "    }\n",
       "\n",
       "    .dataframe tbody tr th {\n",
       "        vertical-align: top;\n",
       "    }\n",
       "\n",
       "    .dataframe thead th {\n",
       "        text-align: right;\n",
       "    }\n",
       "</style>\n",
       "<table border=\"1\" class=\"dataframe\">\n",
       "  <thead>\n",
       "    <tr style=\"text-align: right;\">\n",
       "      <th></th>\n",
       "      <th>unique_id</th>\n",
       "      <th>numkids</th>\n",
       "      <th>q601a01</th>\n",
       "      <th>q601b01</th>\n",
       "      <th>q601c01</th>\n",
       "      <th>q601d01</th>\n",
       "      <th>q601e01</th>\n",
       "      <th>q601f01</th>\n",
       "      <th>q601g01</th>\n",
       "      <th>q601h01</th>\n",
       "      <th>q601i01</th>\n",
       "      <th>q601j01</th>\n",
       "    </tr>\n",
       "  </thead>\n",
       "  <tbody>\n",
       "    <tr>\n",
       "      <th>0</th>\n",
       "      <td>101</td>\n",
       "      <td>1</td>\n",
       "      <td>0</td>\n",
       "      <td>0</td>\n",
       "      <td>0</td>\n",
       "      <td>0</td>\n",
       "      <td>0</td>\n",
       "      <td>0</td>\n",
       "      <td>0</td>\n",
       "      <td>0</td>\n",
       "      <td>0</td>\n",
       "      <td>0</td>\n",
       "    </tr>\n",
       "    <tr>\n",
       "      <th>1</th>\n",
       "      <td>102</td>\n",
       "      <td>3</td>\n",
       "      <td>0</td>\n",
       "      <td>0</td>\n",
       "      <td>0</td>\n",
       "      <td>0</td>\n",
       "      <td>0</td>\n",
       "      <td>0</td>\n",
       "      <td>0</td>\n",
       "      <td>0</td>\n",
       "      <td>0</td>\n",
       "      <td>0</td>\n",
       "    </tr>\n",
       "    <tr>\n",
       "      <th>2</th>\n",
       "      <td>103</td>\n",
       "      <td>1</td>\n",
       "      <td>0</td>\n",
       "      <td>0</td>\n",
       "      <td>0</td>\n",
       "      <td>0</td>\n",
       "      <td>0</td>\n",
       "      <td>0</td>\n",
       "      <td>0</td>\n",
       "      <td>0</td>\n",
       "      <td>0</td>\n",
       "      <td>0</td>\n",
       "    </tr>\n",
       "    <tr>\n",
       "      <th>3</th>\n",
       "      <td>104</td>\n",
       "      <td>2</td>\n",
       "      <td>0</td>\n",
       "      <td>0</td>\n",
       "      <td>0</td>\n",
       "      <td>0</td>\n",
       "      <td>0</td>\n",
       "      <td>0</td>\n",
       "      <td>0</td>\n",
       "      <td>0</td>\n",
       "      <td>0</td>\n",
       "      <td>0</td>\n",
       "    </tr>\n",
       "    <tr>\n",
       "      <th>4</th>\n",
       "      <td>105</td>\n",
       "      <td>1</td>\n",
       "      <td>0</td>\n",
       "      <td>0</td>\n",
       "      <td>0</td>\n",
       "      <td>0</td>\n",
       "      <td>0</td>\n",
       "      <td>0</td>\n",
       "      <td>0</td>\n",
       "      <td>0</td>\n",
       "      <td>0</td>\n",
       "      <td>0</td>\n",
       "    </tr>\n",
       "  </tbody>\n",
       "</table>\n",
       "</div>"
      ],
      "text/plain": [
       "   unique_id  numkids  q601a01  q601b01  q601c01  q601d01  q601e01  q601f01  \\\n",
       "0        101        1        0        0        0        0        0        0   \n",
       "1        102        3        0        0        0        0        0        0   \n",
       "2        103        1        0        0        0        0        0        0   \n",
       "3        104        2        0        0        0        0        0        0   \n",
       "4        105        1        0        0        0        0        0        0   \n",
       "\n",
       "   q601g01  q601h01  q601i01  q601j01  \n",
       "0        0        0        0        0  \n",
       "1        0        0        0        0  \n",
       "2        0        0        0        0  \n",
       "3        0        0        0        0  \n",
       "4        0        0        0        0  "
      ]
     },
     "execution_count": 6,
     "metadata": {},
     "output_type": "execute_result"
    }
   ],
   "source": [
    "data_with_bp.head()"
   ]
  },
  {
   "cell_type": "code",
   "execution_count": null,
   "metadata": {},
   "outputs": [],
   "source": []
  },
  {
   "cell_type": "code",
   "execution_count": 7,
   "metadata": {},
   "outputs": [],
   "source": [
    "# Filtering data to find out how many families have at least one kid with behavior or health problems\n",
    "\n",
    "data_with_bp_1 = data_with_bp.query('q601a01 > 0 or q601b01 > 0 or q601c01 > 0 or q601d01 > 0 or q601e01 > 0 or q601f01 > 0 or q601g01 > 0 or q601h01 > 0  or q601i01 > 0 or q601j01 > 0')\n"
   ]
  },
  {
   "cell_type": "code",
   "execution_count": 8,
   "metadata": {},
   "outputs": [
    {
     "name": "stdout",
     "output_type": "stream",
     "text": [
      "Out of 1575 families, 526 families had at least one kid with behavior or/and health problem\n"
     ]
    }
   ],
   "source": [
    "print('Out of', data.shape[0], 'families,',data_with_bp_1.shape[0], 'families had at least one kid with behavior or/and health problem')"
   ]
  },
  {
   "cell_type": "code",
   "execution_count": 9,
   "metadata": {
    "scrolled": false
   },
   "outputs": [
    {
     "data": {
      "text/plain": [
       "(2806, 458)"
      ]
     },
     "execution_count": 9,
     "metadata": {},
     "output_type": "execute_result"
    }
   ],
   "source": [
    "# Modifing the data. Expanding vertically \n",
    "# Adding column with child number who has behavior or/and health problems\n",
    "\n",
    "data = data.reindex(data.index.repeat(data.numkids))\n",
    "data = data.reset_index(drop=True)\n",
    "data['Child#'] = 0\n",
    "\n",
    "n = 0\n",
    "while n < data.shape[0]:\n",
    "    for i in range(1, (list(data.loc[n, ['numkids']])[0]) + 1):\n",
    "        data.loc[n + i - 1, ['Child#']] = i\n",
    "    n += i\n",
    "\n",
    "data.shape"
   ]
  },
  {
   "cell_type": "code",
   "execution_count": 10,
   "metadata": {},
   "outputs": [],
   "source": [
    "# Adding column to flag kid who either has any problem :1 or does not :0\n",
    "\n",
    "data['has_problem'] = 0\n",
    "\n",
    "for col in ['q601a01','q601a02','q601a03','q601a04','q601a05','q601a06']:\n",
    "    for n in range(data.shape[0]):\n",
    "        data[col] = pd.to_numeric(data[col])\n",
    "\n",
    "        if list(data.loc[n, [col]])[0] == list(data.loc[n, ['Child#']])[0]:\n",
    "            data.loc[n, ['has_problem']] = 1\n",
    "data.loc[data['q601a01'] == 7, 'has_problem'] = 1            "
   ]
  },
  {
   "cell_type": "code",
   "execution_count": 11,
   "metadata": {},
   "outputs": [
    {
     "data": {
      "text/plain": [
       "(2806, 460)"
      ]
     },
     "execution_count": 11,
     "metadata": {},
     "output_type": "execute_result"
    }
   ],
   "source": [
    "# Adding column type of problem   \n",
    "# Filtering data for ADHD \n",
    "    \n",
    "data['type'] = np.nan\n",
    "data.loc[data['has_problem'] == 1, 'type'] = 'ADHD'\n",
    "\n",
    "\n",
    "\n",
    "data.shape"
   ]
  },
  {
   "cell_type": "code",
   "execution_count": 12,
   "metadata": {},
   "outputs": [
    {
     "data": {
      "text/plain": [
       "(2852, 460)"
      ]
     },
     "execution_count": 12,
     "metadata": {},
     "output_type": "execute_result"
    }
   ],
   "source": [
    "# Filtering data for AD \n",
    "\n",
    "data_org = data.copy()\n",
    "m = data_org.shape[0] + 1\n",
    "lenght = data_org.shape[0]\n",
    "\n",
    "\n",
    "for col in ['q601b01','q601b02','q601b03','q601b04','q601b05','q601b06']:\n",
    "    for n in range(lenght):\n",
    "        data[col] = pd.to_numeric(data[col])\n",
    "        if list(data.loc[n, [col]])[0] == list(data.loc[n, ['Child#']])[0]:\n",
    "            \n",
    "            if list(data.loc[n, ['has_problem']])[0] == 1:\n",
    "                data.loc[m] = list(data.loc[n])\n",
    "                data.loc[m, ['type']] = 'AD'\n",
    "                m += 1\n",
    "                \n",
    "            else: \n",
    "                data.loc[n, ['has_problem']] = 1\n",
    "                data.loc[n, ['type']] = 'AD'\n",
    "                \n",
    "\n",
    "                \n",
    "for n in range(lenght):\n",
    "    if list(data.loc[n, ['q601b01']])[0] == 7:\n",
    "        if list(data.loc[n, ['has_problem']])[0] == 1: \n",
    "            data.loc[m] = list(data.loc[n])\n",
    "            data.loc[m, ['type']] = 'AD'\n",
    "            m +=  1\n",
    "\n",
    "            \n",
    "        else: \n",
    "            data.loc[n, ['has_problem']] = 1\n",
    "            data.loc[n, ['type']] = 'AD'\n",
    "    \n",
    "\n",
    "\n",
    "data.shape"
   ]
  },
  {
   "cell_type": "code",
   "execution_count": 13,
   "metadata": {},
   "outputs": [
    {
     "data": {
      "text/plain": [
       "(2898, 460)"
      ]
     },
     "execution_count": 13,
     "metadata": {},
     "output_type": "execute_result"
    }
   ],
   "source": [
    "# Filtering data for Aggressive \n",
    "\n",
    "m = data.shape[0] + 1\n",
    "lenght = data_org.shape[0]\n",
    "\n",
    "for col in ['q601c01','q601c02','q601c03','q601c04','q601c05','q601c06']:\n",
    "    for n in range(lenght):\n",
    "        data[col] = pd.to_numeric(data[col])\n",
    "\n",
    "        if list(data.loc[n, [col]])[0] == list(data.loc[n, ['Child#']])[0]:\n",
    "            if list(data.loc[n, ['has_problem']])[0] == 1:\n",
    "                data.loc[m] = list(data.loc[n])\n",
    "                data.loc[m, ['type']] = 'Aggressive'\n",
    "                m += 1\n",
    "                \n",
    "            else: \n",
    "                data.loc[n, ['has_problem']] = 1\n",
    "                data.loc[n, ['type']] = 'Aggressive'\n",
    "\n",
    "\n",
    "                \n",
    "for n in range(lenght):\n",
    "    if list(data.loc[n, ['q601c01']])[0] == 7:\n",
    "        if list(data.loc[n, ['has_problem']])[0] == 1: \n",
    "            data.loc[m] = list(data.loc[n])\n",
    "            data.loc[m, ['type']] = 'Aggressive'\n",
    "            m += 1\n",
    "            \n",
    "        else: \n",
    "            data.loc[n, ['has_problem']] = 1\n",
    "            data.loc[n, ['type']] = 'Aggressive'\n",
    "    \n",
    "\n",
    "data.shape"
   ]
  },
  {
   "cell_type": "code",
   "execution_count": 14,
   "metadata": {},
   "outputs": [
    {
     "data": {
      "text/plain": [
       "(2933, 460)"
      ]
     },
     "execution_count": 14,
     "metadata": {},
     "output_type": "execute_result"
    }
   ],
   "source": [
    "# Filtering data for PDD\n",
    "\n",
    "m = data.shape[0] + 1\n",
    "lenght = data_org.shape[0]\n",
    "\n",
    "for col in ['q601d01','q601d02','q601d03','q601d04','q601d05','q601d06']:\n",
    "    for n in range(lenght):\n",
    "        data[col] = pd.to_numeric(data[col])\n",
    "\n",
    "        if list(data.loc[n, [col]])[0] == list(data.loc[n, ['Child#']])[0]:\n",
    "            if list(data.loc[n, ['has_problem']])[0] == 1:\n",
    "                data.loc[m] = list(data.loc[n])\n",
    "                data.loc[m, ['type']] = 'PDD'\n",
    "                m += 1\n",
    "                \n",
    "            else: \n",
    "                data.loc[n, ['has_problem']] = 1\n",
    "                data.loc[n, ['type']] = 'PDD'\n",
    "\n",
    "\n",
    "                \n",
    "for n in range(lenght):\n",
    "    if list(data.loc[n, ['q601d01']])[0] == 7:\n",
    "        if list(data.loc[n, ['has_problem']])[0] == 1: \n",
    "            data.loc[m] = list(data.loc[n])\n",
    "            data.loc[m, ['type']] = 'PDD'\n",
    "            m += 1\n",
    "            \n",
    "        else: \n",
    "            data.loc[n, ['has_problem']] = 1\n",
    "            data.loc[n, ['type']] = 'PDD'\n",
    "    \n",
    "\n",
    "\n",
    "data.shape"
   ]
  },
  {
   "cell_type": "code",
   "execution_count": 15,
   "metadata": {
    "scrolled": false
   },
   "outputs": [
    {
     "data": {
      "text/plain": [
       "(2967, 460)"
      ]
     },
     "execution_count": 15,
     "metadata": {},
     "output_type": "execute_result"
    }
   ],
   "source": [
    "# Filtering data for AS\n",
    "\n",
    "m = data.shape[0] + 1\n",
    "lenght = data_org.shape[0]\n",
    "\n",
    "for col in ['q601e01','q601e02','q601e03','q601e04','q601e05','q601e06']:\n",
    "    for n in range(lenght):\n",
    "        data[col] = pd.to_numeric(data[col])\n",
    "        if list(data.loc[n, [col]])[0] == list(data.loc[n, ['Child#']])[0]: \n",
    "            if list(data.loc[n, ['has_problem']])[0] == 1:\n",
    "                data.loc[m] = list(data.loc[n])\n",
    "                data.loc[m, ['type']] = 'AS'\n",
    "                m += 1\n",
    "                \n",
    "            else: \n",
    "                data.loc[n, ['has_problem']] = 1\n",
    "                data.loc[n, ['type']] = 'AS'\n",
    "\n",
    "\n",
    "                \n",
    "for n in range(lenght):\n",
    "    if list(data.loc[n, ['q601e01']])[0] == 7:\n",
    "        if list(data.loc[n, ['has_problem']])[0] == 1: \n",
    "            data.loc[m] = list(data.loc[n])\n",
    "            data.loc[m, ['type']] = 'AS'\n",
    "            m += 1\n",
    "            \n",
    "        else: \n",
    "            data.loc[n, ['has_problem']] = 1\n",
    "            data.loc[n, ['type']] = 'AS'\n",
    "\n",
    "\n",
    "\n",
    "data.shape"
   ]
  },
  {
   "cell_type": "code",
   "execution_count": null,
   "metadata": {},
   "outputs": [],
   "source": []
  },
  {
   "cell_type": "code",
   "execution_count": 16,
   "metadata": {
    "scrolled": true
   },
   "outputs": [
    {
     "data": {
      "text/plain": [
       "(3042, 460)"
      ]
     },
     "execution_count": 16,
     "metadata": {},
     "output_type": "execute_result"
    }
   ],
   "source": [
    "# Filtering data for ASD\n",
    "\n",
    "m = data.shape[0] + 1\n",
    "lenght = data_org.shape[0]\n",
    "\n",
    "for col in ['q601f01','q601f02','q601f03','q601f04','q601f05','q601f06']:\n",
    "    for n in range(lenght):\n",
    "        data[col] = pd.to_numeric(data[col])\n",
    "        if list(data.loc[n, [col]])[0] == list(data.loc[n, ['Child#']])[0]:\n",
    "            if list(data.loc[n, ['has_problem']])[0] == 1:\n",
    "                data.loc[m] = list(data.loc[n])\n",
    "                data.loc[m, ['type']] = 'ASD'\n",
    "                m += 1\n",
    "                \n",
    "            else: \n",
    "                data.loc[n, ['has_problem']] = 1\n",
    "                data.loc[n, ['type']] = 'ASD'\n",
    "\n",
    "\n",
    "                \n",
    "for n in range(lenght):\n",
    "    if list(data.loc[n, ['q601f01']])[0] == 7:\n",
    "        if list(data.loc[n, ['has_problem']])[0] == 1: \n",
    "            data.loc[m] = list(data.loc[n])\n",
    "            data.loc[m, ['type']] = 'ASD'\n",
    "            m += 1\n",
    "            \n",
    "        else: \n",
    "            data.loc[n, ['has_problem']] = 1\n",
    "            data.loc[n, ['type']] = 'ASD'\n",
    "    \n",
    "\n",
    "data.shape"
   ]
  },
  {
   "cell_type": "code",
   "execution_count": null,
   "metadata": {},
   "outputs": [],
   "source": []
  },
  {
   "cell_type": "code",
   "execution_count": 17,
   "metadata": {},
   "outputs": [
    {
     "data": {
      "text/plain": [
       "(3144, 460)"
      ]
     },
     "execution_count": 17,
     "metadata": {},
     "output_type": "execute_result"
    }
   ],
   "source": [
    "# Filtering data for other behavior problems\n",
    "\n",
    "\n",
    "m = data.shape[0] + 1\n",
    "lenght = data_org.shape[0]\n",
    "\n",
    "for col in ['q601g01','q601g02','q601g03','q601g04','q601g05','q601g06']:\n",
    "    for n in range(lenght):\n",
    "        data[col] = pd.to_numeric(data[col])\n",
    "        if list(data.loc[n, [col]])[0] == list(data.loc[n, ['Child#']])[0]:\n",
    "            if list(data.loc[n, ['has_problem']])[0] == 1:\n",
    "                data.loc[m] = list(data.loc[n])\n",
    "                data.loc[m, ['type']] = 'Behavior'\n",
    "                m += 1\n",
    "                \n",
    "            else: \n",
    "                data.loc[n, ['has_problem']] = 1\n",
    "                data.loc[n, ['type']] = 'Behavior'\n",
    "\n",
    "\n",
    "                \n",
    "for n in range(lenght):\n",
    "    if list(data.loc[n, ['q601g01']])[0] == 7:\n",
    "        if list(data.loc[n, ['has_problem']])[0] == 1: \n",
    "            data.loc[m] = list(data.loc[n])\n",
    "            data.loc[m, ['type']] = 'Behavior'\n",
    "            m += 1\n",
    "            \n",
    "        else: \n",
    "            data.loc[n, ['has_problem']] = 1\n",
    "            data.loc[n, ['type']] = 'Behavior'\n",
    "    \n",
    "\n",
    "data.shape"
   ]
  },
  {
   "cell_type": "code",
   "execution_count": null,
   "metadata": {},
   "outputs": [],
   "source": []
  },
  {
   "cell_type": "code",
   "execution_count": 18,
   "metadata": {},
   "outputs": [
    {
     "data": {
      "text/plain": [
       "(3212, 460)"
      ]
     },
     "execution_count": 18,
     "metadata": {},
     "output_type": "execute_result"
    }
   ],
   "source": [
    "# Filtering data for Asthma\n",
    "\n",
    "m = data.shape[0] + 1\n",
    "lenght = data_org.shape[0]\n",
    "\n",
    "for col in ['q601h01','q601h02','q601h03','q601h04','q601h05','q601h06']:\n",
    "    for n in range(lenght):\n",
    "        data[col] = pd.to_numeric(data[col])\n",
    "        if list(data.loc[n, [col]])[0] == list(data.loc[n, ['Child#']])[0]:\n",
    "            if list(data.loc[n, ['has_problem']])[0] == 1:\n",
    "                data.loc[m] = list(data.loc[n])\n",
    "                data.loc[m, ['type']] = 'Asthma'\n",
    "                m += 1\n",
    "                \n",
    "            else: \n",
    "                data.loc[n, ['has_problem']] = 1\n",
    "                data.loc[n, ['type']] = 'Asthma'\n",
    "\n",
    "\n",
    "                \n",
    "for n in range(lenght):\n",
    "    if list(data.loc[n, ['q601h01']])[0] == 7:\n",
    "        if list(data.loc[n, ['has_problem']])[0] == 1: \n",
    "            data.loc[m] = list(data.loc[n])\n",
    "            data.loc[m, ['type']] = 'Asthma'\n",
    "            m += 1\n",
    "            \n",
    "        else: \n",
    "            data.loc[n, ['has_problem']] = 1\n",
    "            data.loc[n, ['type']] = 'Asthma'\n",
    "    \n",
    "data.shape"
   ]
  },
  {
   "cell_type": "code",
   "execution_count": null,
   "metadata": {},
   "outputs": [],
   "source": []
  },
  {
   "cell_type": "code",
   "execution_count": 19,
   "metadata": {},
   "outputs": [
    {
     "data": {
      "text/plain": [
       "(3227, 460)"
      ]
     },
     "execution_count": 19,
     "metadata": {},
     "output_type": "execute_result"
    }
   ],
   "source": [
    "# Filtering data for Heart\n",
    "\n",
    "m = data.shape[0] + 1\n",
    "lenght = data_org.shape[0]\n",
    "\n",
    "for col in ['q601i01','q601i02','q601i03','q601i04','q601i05','q601i06']:\n",
    "    for n in range(lenght):\n",
    "        data[col] = pd.to_numeric(data[col])\n",
    "        if list(data.loc[n, [col]])[0] == list(data.loc[n, ['Child#']])[0]:\n",
    "            if list(data.loc[n, ['has_problem']])[0] == 1:\n",
    "                data.loc[m] = list(data.loc[n])\n",
    "                data.loc[m, ['type']] = 'Heart'\n",
    "                m += 1\n",
    "                \n",
    "            else: \n",
    "                data.loc[n, ['has_problem']] = 1\n",
    "                data.loc[n, ['type']] = 'Heart'\n",
    "\n",
    "\n",
    "                \n",
    "for n in range(lenght):\n",
    "    if list(data.loc[n, ['q601i01']])[0] == 7:\n",
    "        if list(data.loc[n, ['has_problem']])[0] == 1: \n",
    "            data.loc[m] = list(data.loc[n])\n",
    "            data.loc[m, ['type']] = 'Heart'\n",
    "            m += 1\n",
    "            \n",
    "        else: \n",
    "            data.loc[n, ['has_problem']] = 1\n",
    "            data.loc[n, ['type']] = 'Heart'\n",
    "    \n",
    "\n",
    "data.shape"
   ]
  },
  {
   "cell_type": "code",
   "execution_count": null,
   "metadata": {},
   "outputs": [],
   "source": []
  },
  {
   "cell_type": "code",
   "execution_count": 20,
   "metadata": {},
   "outputs": [
    {
     "data": {
      "text/plain": [
       "(3315, 460)"
      ]
     },
     "execution_count": 20,
     "metadata": {},
     "output_type": "execute_result"
    }
   ],
   "source": [
    "# Filtering data for Chronic condition\n",
    "\n",
    "\n",
    "m = data.shape[0] + 1\n",
    "lenght = data_org.shape[0]\n",
    "\n",
    "\n",
    "for col in ['q601j01','q601j02','q601j03','q601j04','q601j05','q601j06']:\n",
    "    for n in range(lenght):\n",
    "        data[col] = pd.to_numeric(data[col])\n",
    "        if list(data.loc[n, [col]])[0] == list(data.loc[n, ['Child#']])[0]:\n",
    "            if list(data.loc[n, ['has_problem']])[0] == 1:\n",
    "                data.loc[m] = list(data.loc[n])\n",
    "                data.loc[m, ['type']] = 'Chronic condition'\n",
    "                m += 1\n",
    "                \n",
    "            else: \n",
    "                data.loc[n, ['has_problem']] = 1\n",
    "                data.loc[n, ['type']] = 'Chronic condition'\n",
    "\n",
    "\n",
    "                \n",
    "for n in range(lenght):\n",
    "    if list(data.loc[n, ['q601j01']])[0] == 7:\n",
    "        if list(data.loc[n, ['has_problem']])[0] == 1: \n",
    "            data.loc[m] = list(data.loc[n])\n",
    "            data.loc[m, ['type']] = 'Chronic condition'\n",
    "            m += 1\n",
    "            \n",
    "        else: \n",
    "            data.loc[n, ['has_problem']] = 1\n",
    "            data.loc[n, ['type']] = 'Chronic condition'\n",
    "    \n",
    "\n",
    "data.shape"
   ]
  },
  {
   "cell_type": "code",
   "execution_count": null,
   "metadata": {},
   "outputs": [],
   "source": []
  },
  {
   "cell_type": "code",
   "execution_count": 21,
   "metadata": {},
   "outputs": [
    {
     "data": {
      "text/plain": [
       "(3483, 460)"
      ]
     },
     "execution_count": 21,
     "metadata": {},
     "output_type": "execute_result"
    }
   ],
   "source": [
    "# Filtering data for Special needs\n",
    "\n",
    "m = data.shape[0] + 1\n",
    "lenght = data_org.shape[0]\n",
    "\n",
    "for col in ['q60201','q60202','q60203','q60204','q60205','q60206']:\n",
    "    for n in range(lenght):\n",
    "        data[col] = pd.to_numeric(data[col])\n",
    "        if list(data.loc[n, [col]])[0] == list(data.loc[n, ['Child#']])[0]:\n",
    "            if list(data.loc[n, ['has_problem']])[0] == 1:\n",
    "                data.loc[m] = list(data.loc[n])\n",
    "                data.loc[m, ['type']] = 'Special needs'\n",
    "                m += 1\n",
    "                \n",
    "            else: \n",
    "                data.loc[n, ['has_problem']] = 1\n",
    "                data.loc[n, ['type']] = 'Special needs'\n",
    "\n",
    "\n",
    "                \n",
    "for n in range(lenght):\n",
    "    if list(data.loc[n, ['q60201']])[0] == 7:\n",
    "        if list(data.loc[n, ['has_problem']])[0] == 1: \n",
    "            data.loc[m] = list(data.loc[n])\n",
    "            data.loc[m, ['type']] = 'Special needs'\n",
    "            m += 1\n",
    "            \n",
    "        else: \n",
    "            data.loc[n, ['has_problem']] = 1\n",
    "            data.loc[n, ['type']] = 'Special needs'\n",
    "    \n",
    "\n",
    "data.shape"
   ]
  },
  {
   "cell_type": "code",
   "execution_count": null,
   "metadata": {},
   "outputs": [],
   "source": []
  },
  {
   "cell_type": "code",
   "execution_count": null,
   "metadata": {},
   "outputs": [],
   "source": []
  },
  {
   "cell_type": "code",
   "execution_count": 22,
   "metadata": {},
   "outputs": [
    {
     "data": {
      "text/plain": [
       "(3523, 460)"
      ]
     },
     "execution_count": 22,
     "metadata": {},
     "output_type": "execute_result"
    }
   ],
   "source": [
    "# Filtering data for Attention problem\n",
    "\n",
    "m = data.shape[0] + 1\n",
    "lenght = data_org.shape[0]\n",
    "for col in ['q60301','q60302','q60303','q60304','q60305','q60306']:\n",
    "    for n in range(lenght):\n",
    "        data[col] = pd.to_numeric(data[col])\n",
    "        if list(data.loc[n, [col]])[0] == list(data.loc[n, ['Child#']])[0]:\n",
    "            if list(data.loc[n, ['has_problem']])[0] == 1:\n",
    "                data.loc[m] = list(data.loc[n])\n",
    "                data.loc[m, ['type']] = 'Attention problem'\n",
    "                m += 1\n",
    "                \n",
    "            else: \n",
    "                data.loc[n, ['has_problem']] = 1\n",
    "                data.loc[n, ['type']] = 'Attention problem'\n",
    "\n",
    "\n",
    "                \n",
    "for n in range(lenght):\n",
    "    if list(data.loc[n, ['q60301']])[0] == 7:\n",
    "        if list(data.loc[n, ['has_problem']])[0] == 1: \n",
    "            data.loc[m] = list(data.loc[n])\n",
    "            data.loc[m, ['type']] = 'Attention problem'\n",
    "            m += 1\n",
    "            \n",
    "        else: \n",
    "            data.loc[n, ['has_problem']] = 1\n",
    "            data.loc[n, ['type']] = 'Attention problem'\n",
    "    \n",
    "data.shape"
   ]
  },
  {
   "cell_type": "code",
   "execution_count": null,
   "metadata": {},
   "outputs": [],
   "source": []
  },
  {
   "cell_type": "code",
   "execution_count": null,
   "metadata": {},
   "outputs": [],
   "source": []
  },
  {
   "cell_type": "code",
   "execution_count": 23,
   "metadata": {},
   "outputs": [
    {
     "data": {
      "text/plain": [
       "(3776, 460)"
      ]
     },
     "execution_count": 23,
     "metadata": {},
     "output_type": "execute_result"
    }
   ],
   "source": [
    "# Filtering data for More medical needs\n",
    "\n",
    "m = data.shape[0] + 1\n",
    "lenght = data_org.shape[0]\n",
    "for col in ['q60401','q60402','q60403','q60404','q60405','q60406']:\n",
    "    for n in range(lenght):\n",
    "        data[col] = pd.to_numeric(data[col])\n",
    "        if list(data.loc[n, [col]])[0] == list(data.loc[n, ['Child#']])[0]:\n",
    "            if list(data.loc[n, ['has_problem']])[0] == 1:\n",
    "                data.loc[m] = list(data.loc[n])\n",
    "                data.loc[m, ['type']] = 'More medical'\n",
    "                m += 1\n",
    "                \n",
    "            else: \n",
    "                data.loc[n, ['has_problem']] = 1\n",
    "                data.loc[n, ['type']] = 'More medical'\n",
    "\n",
    "\n",
    "                \n",
    "for n in range(lenght):\n",
    "    if list(data.loc[n, ['q60401']])[0] == 7:\n",
    "        if list(data.loc[n, ['has_problem']])[0] == 1: \n",
    "            data.loc[m] = list(data.loc[n])\n",
    "            data.loc[m, ['type']] = 'More medical'\n",
    "            m += 1\n",
    "            \n",
    "        else: \n",
    "            data.loc[n, ['has_problem']] = 1\n",
    "            data.loc[n, ['type']] = 'More medical'\n",
    "    \n",
    "\n",
    "data.shape"
   ]
  },
  {
   "cell_type": "code",
   "execution_count": null,
   "metadata": {},
   "outputs": [],
   "source": []
  },
  {
   "cell_type": "code",
   "execution_count": 24,
   "metadata": {},
   "outputs": [
    {
     "data": {
      "text/plain": [
       "(3921, 460)"
      ]
     },
     "execution_count": 24,
     "metadata": {},
     "output_type": "execute_result"
    }
   ],
   "source": [
    "# Filtering data for Limited ability\n",
    "\n",
    "\n",
    "m = data.shape[0] + 1\n",
    "lenght = data_org.shape[0]\n",
    "for col in ['q60501','q60502','q60503','q60504','q60505','q60506']:\n",
    "    for n in range(lenght):\n",
    "        data[col] = pd.to_numeric(data[col])\n",
    "        if list(data.loc[n, [col]])[0] == list(data.loc[n, ['Child#']])[0]:\n",
    "            if list(data.loc[n, ['has_problem']])[0] == 1:\n",
    "                data.loc[m] = list(data.loc[n])\n",
    "                data.loc[m, ['type']] = 'Limited ability'\n",
    "                m += 1\n",
    "                \n",
    "            else: \n",
    "                data.loc[n, ['has_problem']] = 1\n",
    "                data.loc[n, ['type']] = 'Limited ability'\n",
    "\n",
    "\n",
    "                \n",
    "for n in range(lenght):\n",
    "    if list(data.loc[n, ['q60501']])[0] == 7:\n",
    "        if list(data.loc[n, ['has_problem']])[0] == 1: \n",
    "            data.loc[m] = list(data.loc[n])\n",
    "            data.loc[m, ['type']] = 'Limited ability'\n",
    "            m += 1\n",
    "            \n",
    "        else: \n",
    "            data.loc[n, ['has_problem']] = 1\n",
    "            data.loc[n, ['type']] = 'Limited ability'\n",
    "    \n",
    "\n",
    "data.shape"
   ]
  },
  {
   "cell_type": "code",
   "execution_count": null,
   "metadata": {},
   "outputs": [],
   "source": []
  },
  {
   "cell_type": "code",
   "execution_count": 25,
   "metadata": {},
   "outputs": [
    {
     "data": {
      "text/plain": [
       "(4191, 460)"
      ]
     },
     "execution_count": 25,
     "metadata": {},
     "output_type": "execute_result"
    }
   ],
   "source": [
    "# Filtering data for PT/OT (aka: special therapy, speech, physical therapy, occupational therapy and/or psychological services)\n",
    "\n",
    "\n",
    "m = data.shape[0] + 1\n",
    "lenght = data_org.shape[0]\n",
    "for col in ['q60601','q60602','q60603','q60604','q60605','q60606']:\n",
    "    for n in range(lenght):\n",
    "        data[col] = pd.to_numeric(data[col])\n",
    "        if list(data.loc[n, [col]])[0] == list(data.loc[n, ['Child#']])[0]:\n",
    "            if list(data.loc[n, ['has_problem']])[0] == 1:\n",
    "                data.loc[m] = list(data.loc[n])\n",
    "                data.loc[m, ['type']] = 'PT/OT'\n",
    "                m += 1\n",
    "                \n",
    "            else: \n",
    "                data.loc[n, ['has_problem']] = 1\n",
    "                data.loc[n, ['type']] = 'PT/OT'\n",
    "\n",
    "\n",
    "                \n",
    "for n in range(lenght):\n",
    "    if list(data.loc[n, ['q60601']])[0] == 7:\n",
    "        if list(data.loc[n, ['has_problem']])[0] == 1: \n",
    "            data.loc[m] = list(data.loc[n])\n",
    "            data.loc[m, ['type']] = 'PT/OT'\n",
    "            m += 1\n",
    "            \n",
    "        else: \n",
    "            data.loc[n, ['has_problem']] = 1\n",
    "            data.loc[n, ['type']] = 'PT/OT'\n",
    "    \n",
    "\n",
    "data.shape"
   ]
  },
  {
   "cell_type": "code",
   "execution_count": null,
   "metadata": {},
   "outputs": [],
   "source": []
  },
  {
   "cell_type": "code",
   "execution_count": 26,
   "metadata": {},
   "outputs": [
    {
     "data": {
      "text/plain": [
       "(4358, 460)"
      ]
     },
     "execution_count": 26,
     "metadata": {},
     "output_type": "execute_result"
    }
   ],
   "source": [
    "# Filtering data for IEP\n",
    "\n",
    "m = data.shape[0] + 1\n",
    "lenght = data_org.shape[0]\n",
    "\n",
    "for col in ['q60701','q60702','q60703','q60704','q60705','q60706']:\n",
    "    for n in range(lenght):\n",
    "        data[col] = pd.to_numeric(data[col])\n",
    "        if list(data.loc[n, [col]])[0] == list(data.loc[n, ['Child#']])[0]:\n",
    "            if list(data.loc[n, ['has_problem']])[0] == 1:\n",
    "                data.loc[m] = list(data.loc[n])\n",
    "                data.loc[m, ['type']] = 'IEP'\n",
    "                m += 1\n",
    "                \n",
    "            else: \n",
    "                data.loc[n, ['has_problem']] = 1\n",
    "                data.loc[n, ['type']] = 'IEP'\n",
    "\n",
    "\n",
    "                \n",
    "for n in range(lenght):\n",
    "    if list(data.loc[n, ['q60701']])[0] == 7:\n",
    "        if list(data.loc[n, ['has_problem']])[0] == 1: \n",
    "            data.loc[m] = list(data.loc[n])\n",
    "            data.loc[m, ['type']] = 'IEP'\n",
    "            m += 1\n",
    "            \n",
    "        else: \n",
    "            data.loc[n, ['has_problem']] = 1\n",
    "            data.loc[n, ['type']] = 'IEP'\n",
    "    \n",
    "\n",
    "\n",
    "data.shape"
   ]
  },
  {
   "cell_type": "code",
   "execution_count": null,
   "metadata": {},
   "outputs": [],
   "source": []
  },
  {
   "cell_type": "code",
   "execution_count": 27,
   "metadata": {},
   "outputs": [
    {
     "data": {
      "text/plain": [
       "(4366, 460)"
      ]
     },
     "execution_count": 27,
     "metadata": {},
     "output_type": "execute_result"
    }
   ],
   "source": [
    "# Filtering data for IFSP\n",
    "\n",
    "\n",
    "m = data.shape[0] + 1\n",
    "lenght = data_org.shape[0]\n",
    "\n",
    "for col in ['q60801','q60802','q60803','q60804','q60805','q60806']:\n",
    "    for n in range(lenght):\n",
    "        data[col] = pd.to_numeric(data[col])\n",
    "        if list(data.loc[n, [col]])[0] == list(data.loc[n, ['Child#']])[0]:\n",
    "            if list(data.loc[n, ['has_problem']])[0] == 1:\n",
    "                data.loc[m] = list(data.loc[n])\n",
    "                data.loc[m, ['type']] = 'IFSP'\n",
    "                m += 1\n",
    "                \n",
    "            else: \n",
    "                data.loc[n, ['has_problem']] = 1\n",
    "                data.loc[n, ['type']] = 'IFSP'\n",
    "\n",
    "\n",
    "                \n",
    "for n in range(lenght):\n",
    "    if list(data.loc[n, ['q60801']])[0] == 7:\n",
    "        if list(data.loc[n, ['has_problem']])[0] == 1: \n",
    "            data.loc[m] = list(data.loc[n])\n",
    "            data.loc[m, ['type']] = 'IFSP'\n",
    "            m += 1\n",
    "            \n",
    "        else: \n",
    "            data.loc[n, ['has_problem']] = 1\n",
    "            data.loc[n, ['type']] = 'IFSP'\n",
    "    \n",
    "\n",
    "data.shape"
   ]
  },
  {
   "cell_type": "code",
   "execution_count": null,
   "metadata": {},
   "outputs": [],
   "source": []
  },
  {
   "cell_type": "code",
   "execution_count": null,
   "metadata": {},
   "outputs": [],
   "source": []
  },
  {
   "cell_type": "code",
   "execution_count": 28,
   "metadata": {},
   "outputs": [
    {
     "data": {
      "text/plain": [
       "(4366, 358)"
      ]
     },
     "execution_count": 28,
     "metadata": {},
     "output_type": "execute_result"
    }
   ],
   "source": [
    "# Cleaning the data from the columns what have been filtered above\n",
    "\n",
    "data.drop(['q601a01','q601a02','q601a03','q601a04','q601a05','q601a06'], axis=1, inplace=True)\n",
    "data.drop(['q601b01','q601b02','q601b03','q601b04','q601b05','q601b06'], axis=1, inplace=True)\n",
    "data.drop(['q601c01','q601c02','q601c03','q601c04','q601c05','q601c06'], axis=1, inplace=True)\n",
    "data.drop(['q601d01','q601d02','q601d03','q601d04','q601d05','q601d06'], axis=1, inplace=True)\n",
    "data.drop(['q601e01','q601e02','q601e03','q601e04','q601e05','q601e06'], axis=1, inplace=True)\n",
    "data.drop(['q601f01','q601f02','q601f03','q601f04','q601f05','q601f06'], axis=1, inplace=True)\n",
    "data.drop(['q601g01','q601g02','q601g03','q601g04','q601g05','q601g06'], axis=1, inplace=True)\n",
    "data.drop(['q601h01','q601h02','q601h03','q601h04','q601h05','q601h06'], axis=1, inplace=True)\n",
    "data.drop(['q601i01','q601i02','q601i03','q601i04','q601i05','q601i06'], axis=1, inplace=True)\n",
    "data.drop(['q601j01','q601j02','q601j03','q601j04','q601j05','q601j06'], axis=1, inplace=True)\n",
    "data.drop(['q60201','q60202','q60203','q60204','q60205','q60206'], axis=1, inplace=True)\n",
    "\n",
    "data.drop(['q60801','q60802','q60803','q60804','q60805','q60806'], axis=1, inplace=True)\n",
    "\n",
    "data.drop(['q60701','q60702','q60703','q60704','q60705','q60706'], axis=1, inplace=True)\n",
    "\n",
    "data.drop(['q60601','q60602','q60603','q60604','q60605','q60606'], axis=1, inplace=True)\n",
    "\n",
    "data.drop(['q60501','q60502','q60503','q60504','q60505','q60506'], axis=1, inplace=True)\n",
    "\n",
    "data.drop(['q60401','q60402','q60403','q60404','q60405','q60406'], axis=1, inplace=True)\n",
    "\n",
    "data.drop(['q60301','q60302','q60303','q60304','q60305','q60306'], axis=1, inplace=True)\n",
    "\n",
    "\n",
    "data.shape\n",
    "\n"
   ]
  },
  {
   "cell_type": "code",
   "execution_count": 29,
   "metadata": {},
   "outputs": [],
   "source": [
    "# Dropping the columns that are going to be unused\n",
    "list_drop = ['year','month','day','sam_type','q100', 'q100xlld','agecnt1','agecnt2','agecnt3','agecnt4',\n",
    "                'q101a2a', 'q101b2a','q101c2a','q101d2a', 'q101e2a','q101f2a','q104', 'q609','q800a','q800aage','q800b','q801','p4','q905'] + list(data.loc[:, 'WEIGHT_GEN_POP':'WEIGHT_AUT_ALL'].columns)+list(data.loc[:, 'q802a':'q806o'].columns)+ list(data.loc[:, 'q906':'q907f'].columns)\n",
    "\n",
    "df = data.drop(list_drop, axis=1)\n"
   ]
  },
  {
   "cell_type": "code",
   "execution_count": 30,
   "metadata": {},
   "outputs": [],
   "source": [
    "# Renaming the data in the location column for better understading\n",
    "\n",
    "\n",
    "df.loc[df['strata'] == '11','strata'] = 'NE low'\n",
    "df.loc[df['strata'] == '12','strata'] = 'NE high'\n",
    "df.loc[df['strata'] == '21','strata'] = 'MW low'\n",
    "df.loc[df['strata'] == '22','strata'] = 'MW high'\n",
    "df.loc[df['strata'] == '31','strata'] = 'S low'\n",
    "df.loc[df['strata'] == '32','strata'] = 'S high'\n",
    "df.loc[df['strata'] == '41','strata'] = 'W low'\n",
    "df.loc[df['strata'] == '42','strata'] = 'W high'\n",
    "df.loc[df['strata'] == '50','strata'] = 'Autistic child'\n",
    "\n",
    "\n",
    "\n",
    "\n",
    "\n"
   ]
  },
  {
   "cell_type": "code",
   "execution_count": 31,
   "metadata": {},
   "outputs": [],
   "source": [
    "# Expanding the data vertically \n",
    "# Adding child_age, gender and hours per week spend in childcare\n",
    "\n",
    "df = df.reset_index(drop=True)\n",
    "\n",
    "df['child_age'] = 0\n",
    "df['sex'] = np.nan\n",
    "df['hrs/wk in chld care'] = 0\n",
    "\n",
    "length = df.shape[0]\n",
    "child = 1\n",
    "\n",
    "for col in ['q101a1','q101b1','q101c1','q101d1','q101e1','q101f1']:\n",
    "    for n in range(length):\n",
    "        df[col] = pd.to_numeric(df[col])\n",
    "        if list(df.loc[n, ['Child#']])[0] == child:\n",
    "            df.loc[n, ['child_age']] = list(df.loc[n, [col]])[0]\n",
    "            \n",
    "    child += 1\n",
    "            \n",
    "child = 1\n",
    "for col in ['q101a2','q101b2','q101c2','q101d2','q101e2','q101f2']:\n",
    "    for n in range(length):\n",
    "        df[col] = pd.to_numeric(df[col])\n",
    "        if list(df.loc[n, ['Child#']])[0] == child:\n",
    "            df.loc[n, ['sex']] = list(df.loc[n, [col]])[0]\n",
    "            \n",
    "    child += 1    \n",
    "    \n",
    "    \n",
    "df.loc[df['sex'] == 1,'sex'] = 'male'\n",
    "df.loc[df['sex'] == 2,'sex'] = 'female'   \n",
    "df.loc[df['sex'] == 3,'sex'] = np.nan   \n",
    "\n",
    "\n",
    "\n",
    "child = 1\n",
    "\n",
    "for col in ['q303a','q303b','q303c','q303d','q303e','q303f']:\n",
    "    for n in range(length):\n",
    "        df[col] = pd.to_numeric(df[col])\n",
    "        if list(df.loc[n, ['Child#']])[0] == child:\n",
    "            df.loc[n, ['hrs/wk in chld care']] = list(df.loc[n, [col]])[0]\n",
    "            \n",
    "    child += 1"
   ]
  },
  {
   "cell_type": "code",
   "execution_count": 32,
   "metadata": {},
   "outputs": [],
   "source": [
    "# Cleaning the data from the columns what have been filtered above\n",
    "\n",
    "df.drop(['q303a','q303b','q303c','q303d','q303e','q303f','q101a1','q101b1','q101c1','q101d1','q101e1','q101f1','q101a2','q101b2','q101c2','q101d2','q101e2','q101f2'], axis=1, inplace=True)\n"
   ]
  },
  {
   "cell_type": "code",
   "execution_count": 33,
   "metadata": {},
   "outputs": [],
   "source": [
    "# Renaming columns and rows for better understanding\n",
    "\n",
    "df.rename(columns={\"q105\": \"two_parent_house\", \"q200\": \"regular_activity\"}, inplace=True)\n",
    "\n",
    "df.loc[df['two_parent_house'] == 1,'two_parent_house'] = 'yes'\n",
    "df.loc[df['two_parent_house'] == 2,'two_parent_house'] = 'no' \n",
    "\n",
    "df.loc[df['regular_activity'] == 1,'regular_activity'] = 'yes'\n",
    "df.loc[df['regular_activity'] == 2,'regular_activity'] = 'no' "
   ]
  },
  {
   "cell_type": "code",
   "execution_count": null,
   "metadata": {},
   "outputs": [],
   "source": []
  },
  {
   "cell_type": "code",
   "execution_count": 34,
   "metadata": {},
   "outputs": [],
   "source": [
    "df = df.reset_index(drop=True)\n"
   ]
  },
  {
   "cell_type": "code",
   "execution_count": null,
   "metadata": {},
   "outputs": [],
   "source": []
  },
  {
   "cell_type": "code",
   "execution_count": 35,
   "metadata": {},
   "outputs": [],
   "source": [
    "df.drop(['s1','s3'], axis=1, inplace=True)\n",
    "\n"
   ]
  },
  {
   "cell_type": "code",
   "execution_count": 36,
   "metadata": {},
   "outputs": [],
   "source": [
    "# Expanding the data vertically \n",
    "# Adding column Race\n",
    "# Renaming columns for better undestanding\n",
    "\n",
    "df['RACE'] = np.nan\n",
    "\n",
    "\n",
    "df.rename(columns={\"DEMO_ETHNICITY\": \"Hispanic\", \"DEMO_RACE_WHITE\": \"White\", \"DEMO_RACE_BLACK\": \"Black\",\n",
    "                  \"DEMO_RACE_ASIAN\": \"Asian\", \"DEMO_RACE_AMERICAN_INDIAN\": \"Native_American\",\n",
    "                  \"DEMO_RACE_NATIVE_HAWAIIAN\": \"Native_Hawaiian\", \"DEMO_RACE_OTHER\": \"Other\"}, inplace=True)\n",
    "\n",
    "df.loc[df['Hispanic'] == '1','Hispanic'] = 'yes'\n",
    "df.loc[df['Hispanic'] == '2','Hispanic'] = np.nan\n",
    "df.loc[df['Hispanic'] == '3','Hispanic'] = np.nan\n",
    "\n",
    "df.loc[df['White'] == '1','White'] = 'yes'\n",
    "df.loc[df['White'] == '2','White'] = np.nan\n",
    "df.loc[df['White'] == '9','White'] = np.nan\n",
    "\n",
    "df.loc[df['Black'] == '1','Black'] = 'yes'\n",
    "df.loc[df['Black'] == '2','Black'] = np.nan\n",
    "\n",
    "df.loc[df['Asian'] == '1','Asian'] = 'yes'\n",
    "df.loc[df['Asian'] == '2','Asian'] = np.nan\n",
    "\n",
    "df.loc[df['Native_American'] == '1','Native_American'] = 'yes'\n",
    "df.loc[df['Native_American'] == '2','Native_American'] = np.nan\n",
    "\n",
    "df.loc[df['Native_Hawaiian'] == '1','Native_Hawaiian'] = 'yes'\n",
    "df.loc[df['Native_Hawaiian'] == '2','Native_Hawaiian'] = np.nan\n",
    "\n",
    "df.loc[df['Other'] == '1','Other'] = 'yes'\n",
    "df.loc[df['Other'] == '2','Other'] = np.nan"
   ]
  },
  {
   "cell_type": "code",
   "execution_count": 37,
   "metadata": {},
   "outputs": [],
   "source": [
    "df.loc[df['Hispanic'] == 'yes','RACE'] = 'Hispanic'\n",
    "\n",
    "\n",
    "df.loc[df['White'] == 'yes','RACE'] = 'White'\n",
    "\n",
    "\n",
    "df.loc[df['Black'] == 'yes','RACE'] = 'Black'\n",
    "\n",
    "df.loc[df['Asian'] == 'yes','RACE'] = 'Asian'\n",
    "\n",
    "df.loc[df['Native_American'] == 'yes','RACE'] = 'Native_American'\n",
    "\n",
    "df.loc[df['Native_Hawaiian'] == 'yes','RACE'] = 'Native_Hawaiian'\n",
    "\n",
    "df.loc[df['Other'] == 'yes','RACE'] = 'Other'\n"
   ]
  },
  {
   "cell_type": "code",
   "execution_count": 38,
   "metadata": {},
   "outputs": [],
   "source": [
    "# Adding column for counting number of races per family\n",
    "\n",
    "df_race = df[[\"Hispanic\", \"White\", \"Black\", \"Asian\", \"Native_American\", \"Native_Hawaiian\", \"Other\"]]\n",
    "\n",
    "df['num_races'] = df_race.count(axis = 1)\n",
    "\n",
    "df.loc[df['num_races'] == 2,'RACE'] = 'Mix'\n",
    "\n",
    "                            \n",
    "df.sort_values(by=['unique_id'])\n",
    "df = df.reset_index(drop=True)            \n",
    "            \n",
    "            "
   ]
  },
  {
   "cell_type": "code",
   "execution_count": 39,
   "metadata": {},
   "outputs": [],
   "source": [
    "# Adding column for tracking if any parent is currently unemployed\n",
    "\n",
    "\n",
    "df['Unemployment'] = 0\n",
    "\n",
    "for col in ['q702_a01','q702_a02','q702_a03','q702_a04','q702_a05','q702_a06']:\n",
    "    for n in range(df.shape[0]):\n",
    "        df[col] = pd.to_numeric(df[col])\n",
    "\n",
    "        if list(df.loc[n, [col]])[0] == list(df.loc[n, ['Child#']])[0]:\n",
    "            df.loc[n, ['Unemployment']] = 1\n",
    "            \n",
    "df.loc[df['q702_a01'] == 7, 'Unemployment'] = 1      \n",
    "\n",
    "df.drop(['q702_a01','q702_a02','q702_a03','q702_a04','q702_a05','q702_a06'], axis = 1, inplace=True)\n"
   ]
  },
  {
   "cell_type": "code",
   "execution_count": 40,
   "metadata": {},
   "outputs": [],
   "source": [
    "# Remaning column to out-of-pocket child care per family expences \n",
    "\n",
    "df.rename(columns={\"q310\": \"OOP_child_care\"}, inplace=True)\n",
    "         \n",
    "        \n",
    "        \n",
    "df.loc[df['OOP_child_care'] == 98, 'OOP_child_care'] = np.nan\n",
    "df.loc[df['OOP_child_care'] == 99, 'OOP_child_care'] = np.nan\n",
    "df.loc[df['OOP_child_care'] == '.', 'OOP_child_care'] = np.nan"
   ]
  },
  {
   "cell_type": "code",
   "execution_count": 41,
   "metadata": {},
   "outputs": [],
   "source": [
    "# Saving the filtered data for further analysis\n",
    "df.sort_values(by=['unique_id'])\n",
    "df = df.reset_index(drop=True)\n",
    "df.to_csv('data.csv')"
   ]
  }
 ],
 "metadata": {
  "kernelspec": {
   "display_name": "Python 3",
   "language": "python",
   "name": "python3"
  },
  "language_info": {
   "codemirror_mode": {
    "name": "ipython",
    "version": 3
   },
   "file_extension": ".py",
   "mimetype": "text/x-python",
   "name": "python",
   "nbconvert_exporter": "python",
   "pygments_lexer": "ipython3",
   "version": "3.8.3"
  }
 },
 "nbformat": 4,
 "nbformat_minor": 2
}
